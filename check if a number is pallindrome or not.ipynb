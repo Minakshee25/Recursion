{
 "cells": [
  {
   "cell_type": "code",
   "execution_count": 9,
   "metadata": {},
   "outputs": [
    {
     "name": "stdout",
     "output_type": "stream",
     "text": [
      "Not a pallindrome\n"
     ]
    }
   ],
   "source": [
    "def reverse(s):\n",
    "    if(len(s)==1):\n",
    "        return s\n",
    "    ele=s[-1]\n",
    "    s=s[:-1]\n",
    "    s=reverse(s)\n",
    "    s=ele+s\n",
    "    return s\n",
    "def checkpallindrome(s):\n",
    "    if(s==reverse(s)):\n",
    "        print(\"Pallindrome\")\n",
    "    else:\n",
    "        print(\"Not a pallindrome\")\n",
    "checkpallindrome('100')"
   ]
  },
  {
   "cell_type": "code",
   "execution_count": 35,
   "metadata": {},
   "outputs": [],
   "source": [
    "l=[]\n",
    "def reverse(s):\n",
    "    if(len(s)==1):\n",
    "        return s\n",
    "    ele=s[-1]\n",
    "    s=s[:-1]\n",
    "    s=reverse(s)\n",
    "    s=ele+s\n",
    "    return s\n",
    "def checkpallindrome(s):\n",
    "    if(s==reverse(s)):\n",
    "        l.append(s)\n",
    "    return l"
   ]
  },
  {
   "cell_type": "code",
   "execution_count": 36,
   "metadata": {},
   "outputs": [
    {
     "data": {
      "text/plain": [
       "['nitin']"
      ]
     },
     "execution_count": 36,
     "metadata": {},
     "output_type": "execute_result"
    }
   ],
   "source": [
    "s='nitin'\n",
    "checkpallindrome(s)"
   ]
  },
  {
   "cell_type": "code",
   "execution_count": 37,
   "metadata": {},
   "outputs": [
    {
     "name": "stdout",
     "output_type": "stream",
     "text": [
      "['nitin', 'n', 'nitin', 'i', 'iti', 't', 'i', 'n']\n"
     ]
    }
   ],
   "source": [
    "for i in range(len(s)):\n",
    "    for j in range(i,len(s)):\n",
    "#         print(s[i:j+1])\n",
    "        l=checkpallindrome(s[i:j+1])\n",
    "print(l)\n"
   ]
  },
  {
   "cell_type": "code",
   "execution_count": null,
   "metadata": {},
   "outputs": [],
   "source": []
  }
 ],
 "metadata": {
  "kernelspec": {
   "display_name": "Python 3",
   "language": "python",
   "name": "python3"
  },
  "language_info": {
   "codemirror_mode": {
    "name": "ipython",
    "version": 3
   },
   "file_extension": ".py",
   "mimetype": "text/x-python",
   "name": "python",
   "nbconvert_exporter": "python",
   "pygments_lexer": "ipython3",
   "version": "3.7.6"
  }
 },
 "nbformat": 4,
 "nbformat_minor": 4
}
