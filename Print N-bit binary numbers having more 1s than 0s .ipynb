{
 "cells": [
  {
   "cell_type": "code",
   "execution_count": 1,
   "metadata": {},
   "outputs": [
    {
     "name": "stdout",
     "output_type": "stream",
     "text": [
      "1\n",
      "2\n",
      "11 10 \n"
     ]
    }
   ],
   "source": [
    "#User function Template for python3\n",
    "class Solution:\n",
    "    def __init__(self):\n",
    "        self.arr=[]\n",
    "    def func(self,n,op,n1,n0):\n",
    "        if(n1+n0==n):\n",
    "            self.arr.append(op)\n",
    "            return\n",
    "        if(n1==n0):\n",
    "            op=op+'1'\n",
    "            n1=n1+1\n",
    "            self.func(n,op,n1,n0)\n",
    "            return\n",
    "        op1=op+'1'\n",
    "        op2=op+'0'\n",
    "        n11=n1+1\n",
    "        n10=n0\n",
    "        n21=n1\n",
    "        n20=n0+1\n",
    "        self.func(n,op1,n11,n10)\n",
    "        self.func(n,op2,n21,n20)\n",
    "    def NBitBinary(self, N):\n",
    "        n1=0\n",
    "        n0=0\n",
    "        op=''\n",
    "        self.func(N,op,n1,n0)\n",
    "        return self.arr\n",
    "\n",
    "#{ \n",
    "#  Driver Code Starts\n",
    "#Initial Template for Python 3\n",
    "\n",
    "if __name__ == '__main__':\n",
    "\tT=int(input())\n",
    "\tfor i in range(T):\n",
    "\t\tn = int(input())\n",
    "\t\tob = Solution()\t\n",
    "\t\tanswer = ob.NBitBinary(n)\n",
    "\t\tfor value in answer:\n",
    "\t\t\tprint(value,end=\" \")\n",
    "\t\tprint()\n",
    "\n",
    "\n",
    "# } Driver Code Ends"
   ]
  },
  {
   "cell_type": "code",
   "execution_count": null,
   "metadata": {},
   "outputs": [],
   "source": []
  }
 ],
 "metadata": {
  "kernelspec": {
   "display_name": "Python 3",
   "language": "python",
   "name": "python3"
  },
  "language_info": {
   "codemirror_mode": {
    "name": "ipython",
    "version": 3
   },
   "file_extension": ".py",
   "mimetype": "text/x-python",
   "name": "python",
   "nbconvert_exporter": "python",
   "pygments_lexer": "ipython3",
   "version": "3.7.6"
  }
 },
 "nbformat": 4,
 "nbformat_minor": 4
}
