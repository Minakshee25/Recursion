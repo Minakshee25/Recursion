{
 "cells": [
  {
   "cell_type": "code",
   "execution_count": 3,
   "metadata": {},
   "outputs": [],
   "source": [
    "def func(n,op,k):\n",
    "    if(n==0):\n",
    "        print(op)\n",
    "        return\n",
    "    if(k==1):\n",
    "        op=op+'0'\n",
    "        n=n-1\n",
    "        k=k-1\n",
    "        func(n,op,k)\n",
    "        return\n",
    "    op1=op+'1'\n",
    "    op2=op+'0'\n",
    "    k1=k+1\n",
    "    k2=k\n",
    "    n=n-1\n",
    "    func(n,op1,k1)\n",
    "    func(n,op2,k2)"
   ]
  },
  {
   "cell_type": "code",
   "execution_count": 5,
   "metadata": {},
   "outputs": [
    {
     "name": "stdout",
     "output_type": "stream",
     "text": [
      "1010\n",
      "1001\n",
      "1000\n",
      "0101\n",
      "0100\n",
      "0010\n",
      "0001\n",
      "0000\n"
     ]
    }
   ],
   "source": [
    "func(4,'',0)"
   ]
  },
  {
   "cell_type": "code",
   "execution_count": null,
   "metadata": {},
   "outputs": [],
   "source": []
  }
 ],
 "metadata": {
  "kernelspec": {
   "display_name": "Python 3",
   "language": "python",
   "name": "python3"
  },
  "language_info": {
   "codemirror_mode": {
    "name": "ipython",
    "version": 3
   },
   "file_extension": ".py",
   "mimetype": "text/x-python",
   "name": "python",
   "nbconvert_exporter": "python",
   "pygments_lexer": "ipython3",
   "version": "3.7.6"
  }
 },
 "nbformat": 4,
 "nbformat_minor": 4
}
