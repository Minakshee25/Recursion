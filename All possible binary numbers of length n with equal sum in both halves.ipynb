{
 "cells": [
  {
   "cell_type": "code",
   "execution_count": 9,
   "metadata": {},
   "outputs": [],
   "source": [
    "def func(n,n1,op,k):\n",
    "    if(n1==0):\n",
    "        print(op)\n",
    "        return\n",
    "    if(n1<=(n/2)):\n",
    "        if(k==n1):\n",
    "            op=op+'1'\n",
    "            k=k-1\n",
    "            n1=n1-1\n",
    "            func(n,n1,op,k)\n",
    "            return\n",
    "        elif(k==0):\n",
    "            op=op+'0'\n",
    "            n1=n1-1\n",
    "            func(n,n1,op,k)\n",
    "            return\n",
    "        elif(k<n1):\n",
    "            op1=op+'1'\n",
    "            op2=op+'0'\n",
    "            k1=k-1\n",
    "            k2=k\n",
    "            n1=n1-1\n",
    "            func(n,n1,op1,k1)\n",
    "            func(n,n1,op2,k2)\n",
    "            return\n",
    "    elif(n1>(n/2)):\n",
    "        op1=op+'1'\n",
    "        op2=op+'0'\n",
    "        k1=k+1\n",
    "        k2=k\n",
    "        n1=n1-1\n",
    "        func(n,n1,op1,k1)\n",
    "        func(n,n1,op2,k2)\n",
    "        return"
   ]
  },
  {
   "cell_type": "code",
   "execution_count": 10,
   "metadata": {},
   "outputs": [
    {
     "name": "stdout",
     "output_type": "stream",
     "text": [
      "1111\n",
      "1010\n",
      "1001\n",
      "0110\n",
      "0101\n",
      "0000\n"
     ]
    }
   ],
   "source": [
    "func(4,4,'',0)"
   ]
  },
  {
   "cell_type": "code",
   "execution_count": null,
   "metadata": {},
   "outputs": [],
   "source": []
  }
 ],
 "metadata": {
  "kernelspec": {
   "display_name": "Python 3",
   "language": "python",
   "name": "python3"
  },
  "language_info": {
   "codemirror_mode": {
    "name": "ipython",
    "version": 3
   },
   "file_extension": ".py",
   "mimetype": "text/x-python",
   "name": "python",
   "nbconvert_exporter": "python",
   "pygments_lexer": "ipython3",
   "version": "3.7.6"
  }
 },
 "nbformat": 4,
 "nbformat_minor": 4
}
