{
 "cells": [
  {
   "cell_type": "code",
   "execution_count": 1,
   "metadata": {},
   "outputs": [],
   "source": [
    "def combinations(IP,OP):\n",
    "    if(IP==''):\n",
    "        print(OP)\n",
    "        return\n",
    "    elif(OP==''):\n",
    "        OP=OP+IP[0]\n",
    "        IP=IP[1:]\n",
    "        combinations(IP,OP)\n",
    "        return\n",
    "    OP1=OP+' '+IP[0]\n",
    "    OP2=OP+IP[0]\n",
    "    IP=IP[1:]\n",
    "    combinations(IP,OP1)\n",
    "    combinations(IP,OP2)\n",
    "    return"
   ]
  },
  {
   "cell_type": "code",
   "execution_count": 3,
   "metadata": {},
   "outputs": [
    {
     "name": "stdout",
     "output_type": "stream",
     "text": [
      "1 2 3 4\n",
      "1 2 34\n",
      "1 23 4\n",
      "1 234\n",
      "12 3 4\n",
      "12 34\n",
      "123 4\n",
      "1234\n"
     ]
    }
   ],
   "source": [
    "combinations('1234','')"
   ]
  },
  {
   "cell_type": "code",
   "execution_count": null,
   "metadata": {},
   "outputs": [],
   "source": []
  }
 ],
 "metadata": {
  "kernelspec": {
   "display_name": "Python 3",
   "language": "python",
   "name": "python3"
  },
  "language_info": {
   "codemirror_mode": {
    "name": "ipython",
    "version": 3
   },
   "file_extension": ".py",
   "mimetype": "text/x-python",
   "name": "python",
   "nbconvert_exporter": "python",
   "pygments_lexer": "ipython3",
   "version": "3.7.6"
  }
 },
 "nbformat": 4,
 "nbformat_minor": 4
}
