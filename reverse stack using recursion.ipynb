{
 "cells": [
  {
   "cell_type": "code",
   "execution_count": 60,
   "metadata": {},
   "outputs": [],
   "source": [
    "class Stack:\n",
    "    def __init__(self,max_size):\n",
    "        self.__max_size=max_size\n",
    "        self.__elements=[None]*self.__max_size\n",
    "        self.__top=-1\n",
    "    \n",
    "    def is_full(self):\n",
    "        if(self.__top==self.__max_size-1):\n",
    "            return True\n",
    "        return False\n",
    "    \n",
    "    def is_empty(self):\n",
    "        if(self.__top==-1): \n",
    "            return True\n",
    "        return False\n",
    "    \n",
    "    def push(self,data):\n",
    "        if(self.is_full()):\n",
    "            print(\"The stack is full!!\")\n",
    "        else:\n",
    "            self.__top+=1\n",
    "            self.__elements[self.__top]=data\n",
    "    \n",
    "    def pop(self):\n",
    "        if(self.is_empty()):\n",
    "            print(\"The stack is empty!!\")\n",
    "        else:\n",
    "            data= self.__elements[self.__top]\n",
    "            self.__top-=1\n",
    "        return data\n",
    "    \n",
    "    def display(self):\n",
    "        if(self.is_empty()):\n",
    "            print(\"The stack is empty\")\n",
    "        else:\n",
    "            index=self.__top\n",
    "            while(index>=0):\n",
    "                print(self.__elements[index])\n",
    "                index-=1\n",
    "    \n",
    "    def get_top(self):\n",
    "        return self.__top\n",
    "    \n",
    "    def get_max_size(self):\n",
    "        return self.__max_size\n",
    "    def get_stacktop(self):\n",
    "        return self.__elements[self.__top]\n",
    "                                        \n",
    "    #You can use the below __str__() to print the elements of the DS object while debugging\n",
    "    def __str__(self):\n",
    "        msg=[]\n",
    "        index=self.__top\n",
    "        while(index>=0):\n",
    "            msg.append((str)(self.__elements[index]))\n",
    "            index-=1\n",
    "        msg=\" \".join(msg)\n",
    "        msg=\"Stack data(Top to Bottom): \"+msg\n",
    "        return msg   \n"
   ]
  },
  {
   "cell_type": "code",
   "execution_count": 74,
   "metadata": {},
   "outputs": [],
   "source": [
    "s=Stack(9)\n",
    "s.push(5)\n",
    "s.push(4)\n",
    "s.push(3)\n",
    "s.push(2)\n",
    "s.push(1)"
   ]
  },
  {
   "cell_type": "code",
   "execution_count": 75,
   "metadata": {},
   "outputs": [
    {
     "data": {
      "text/plain": [
       "4"
      ]
     },
     "execution_count": 75,
     "metadata": {},
     "output_type": "execute_result"
    }
   ],
   "source": [
    "s.get_top()"
   ]
  },
  {
   "cell_type": "code",
   "execution_count": 76,
   "metadata": {},
   "outputs": [],
   "source": [
    "def func(s,n):\n",
    "    if(s.get_top()==-1):\n",
    "        s.push(n)\n",
    "        return\n",
    "    ele=s.pop()\n",
    "    func(s,n)\n",
    "    s.push(ele)\n",
    "def reverse(s):\n",
    "    if(s.get_top()==0):\n",
    "        return s\n",
    "    ele=s.pop()\n",
    "    reverse(s)\n",
    "    func(s,ele)"
   ]
  },
  {
   "cell_type": "code",
   "execution_count": 77,
   "metadata": {},
   "outputs": [
    {
     "name": "stdout",
     "output_type": "stream",
     "text": [
      "5\n",
      "4\n",
      "3\n",
      "2\n",
      "1\n"
     ]
    }
   ],
   "source": [
    "reverse(s)\n",
    "s.display()"
   ]
  },
  {
   "cell_type": "code",
   "execution_count": 72,
   "metadata": {},
   "outputs": [
    {
     "name": "stdout",
     "output_type": "stream",
     "text": [
      "1\n",
      "2\n",
      "3\n",
      "4\n",
      "5\n"
     ]
    }
   ],
   "source": [
    "s=Stack(9)\n",
    "s.push(5)\n",
    "s.push(4)\n",
    "s.push(3)\n",
    "s.push(2)\n",
    "s.push(1)\n",
    "s.display()"
   ]
  },
  {
   "cell_type": "code",
   "execution_count": 73,
   "metadata": {},
   "outputs": [
    {
     "name": "stdout",
     "output_type": "stream",
     "text": [
      "1\n",
      "2\n",
      "3\n",
      "4\n",
      "5\n",
      "7\n"
     ]
    }
   ],
   "source": [
    "\n",
    "func(s,7)\n",
    "s.display()"
   ]
  },
  {
   "cell_type": "code",
   "execution_count": null,
   "metadata": {},
   "outputs": [],
   "source": []
  }
 ],
 "metadata": {
  "kernelspec": {
   "display_name": "Python 3",
   "language": "python",
   "name": "python3"
  },
  "language_info": {
   "codemirror_mode": {
    "name": "ipython",
    "version": 3
   },
   "file_extension": ".py",
   "mimetype": "text/x-python",
   "name": "python",
   "nbconvert_exporter": "python",
   "pygments_lexer": "ipython3",
   "version": "3.7.6"
  }
 },
 "nbformat": 4,
 "nbformat_minor": 4
}
