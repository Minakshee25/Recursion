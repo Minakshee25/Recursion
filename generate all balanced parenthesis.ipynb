{
 "cells": [
  {
   "cell_type": "code",
   "execution_count": 1,
   "metadata": {},
   "outputs": [],
   "source": [
    "def func(n,op,k):\n",
    "    if(n==0):\n",
    "        print(op)\n",
    "        return\n",
    "    if(k==0):\n",
    "        op=op+'('\n",
    "        n-=1\n",
    "        k+=1\n",
    "        func(n,op,k)\n",
    "        return\n",
    "    if(n==k):\n",
    "        op=op+')'\n",
    "        n-=1\n",
    "        k-=1\n",
    "        func(n,op,k)\n",
    "        return\n",
    "    if(n>k):\n",
    "        op1=op+'('\n",
    "        op2=op+')'\n",
    "        k1=k+1\n",
    "        k2=k-1\n",
    "        n-=1\n",
    "        func(n,op1,k1)\n",
    "        func(n,op2,k2)\n",
    "        return"
   ]
  },
  {
   "cell_type": "code",
   "execution_count": 2,
   "metadata": {},
   "outputs": [
    {
     "name": "stdout",
     "output_type": "stream",
     "text": [
      "((()))\n",
      "(()())\n",
      "(())()\n",
      "()(())\n",
      "()()()\n"
     ]
    }
   ],
   "source": [
    "IP=3\n",
    "func(2*IP,'',0)"
   ]
  },
  {
   "cell_type": "code",
   "execution_count": 7,
   "metadata": {},
   "outputs": [
    {
     "name": "stdout",
     "output_type": "stream",
     "text": [
      "4\n",
      "(((())))\n",
      "((()()))\n",
      "((())())\n",
      "((()))()\n",
      "(()(()))\n",
      "(()()())\n",
      "(()())()\n",
      "(())(())\n",
      "(())()()\n",
      "()((()))\n",
      "()(()())\n",
      "()(())()\n",
      "()()(())\n",
      "()()()()\n"
     ]
    }
   ],
   "source": [
    "class Solution:\n",
    "    # @param A : integer\n",
    "    # @return a list of strings\n",
    "    def generateParenthesis(self,n,op,k):\n",
    "        if(n==0):\n",
    "            print(op)\n",
    "            return\n",
    "        if(k==0):\n",
    "            op=op+'('\n",
    "            n-=1\n",
    "            k+=1\n",
    "            self.generateParenthesis(n,op,k)\n",
    "            return\n",
    "        if(n==k):\n",
    "            op=op+')'\n",
    "            n-=1\n",
    "            k-=1\n",
    "            self.generateParenthesis(n,op,k)\n",
    "            return\n",
    "        if(n>k):\n",
    "            op1=op+'('\n",
    "            op2=op+')'\n",
    "            k1=k+1\n",
    "            k2=k-1\n",
    "            n-=1\n",
    "            self.generateParenthesis(n,op1,k1)\n",
    "            self.generateParenthesis(n,op2,k2)\n",
    "            return\n",
    "ob=Solution()\n",
    "n=int(input())\n",
    "ob.generateParenthesis(2*n,'',0)"
   ]
  },
  {
   "cell_type": "code",
   "execution_count": 4,
   "metadata": {},
   "outputs": [
    {
     "name": "stdout",
     "output_type": "stream",
     "text": [
      "0\n",
      "\n"
     ]
    }
   ],
   "source": [
    "class Solution:\n",
    "    # @param A : integer\n",
    "    # @return a list of strings\n",
    "    def func(self,n,op,k):\n",
    "        if(n==0):\n",
    "            print(op)\n",
    "            return\n",
    "        if(k==0):\n",
    "            op=op+'('\n",
    "            n-=1\n",
    "            k+=1\n",
    "            self.func(n,op,k)\n",
    "            return\n",
    "        if(n==k):\n",
    "            op=op+')'\n",
    "            n-=1\n",
    "            k-=1\n",
    "            self.func(n,op,k)\n",
    "            return\n",
    "        if(n>k):\n",
    "            op1=op+'('\n",
    "            op2=op+')'\n",
    "            k1=k+1\n",
    "            k2=k-1\n",
    "            n-=1\n",
    "            self.func(n,op1,k1)\n",
    "            self.func(n,op2,k2)\n",
    "            return\n",
    "    def generateParenthesis(self, A):\n",
    "        self.func(2*A,'',0)\n",
    "ob=Solution()\n",
    "n=int(input())\n",
    "ob.generateParenthesis(n)"
   ]
  },
  {
   "cell_type": "code",
   "execution_count": null,
   "metadata": {},
   "outputs": [],
   "source": []
  }
 ],
 "metadata": {
  "kernelspec": {
   "display_name": "Python 3",
   "language": "python",
   "name": "python3"
  },
  "language_info": {
   "codemirror_mode": {
    "name": "ipython",
    "version": 3
   },
   "file_extension": ".py",
   "mimetype": "text/x-python",
   "name": "python",
   "nbconvert_exporter": "python",
   "pygments_lexer": "ipython3",
   "version": "3.7.6"
  }
 },
 "nbformat": 4,
 "nbformat_minor": 4
}
