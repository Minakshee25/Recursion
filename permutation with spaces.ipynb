{
 "cells": [
  {
   "cell_type": "code",
   "execution_count": 4,
   "metadata": {},
   "outputs": [],
   "source": [
    "IP=\"ABC\""
   ]
  },
  {
   "cell_type": "code",
   "execution_count": 7,
   "metadata": {},
   "outputs": [],
   "source": [
    "def func(IP,OP):\n",
    "    if(IP==''):\n",
    "        print(OP)\n",
    "        return\n",
    "    if(OP==''):\n",
    "        OP=OP+IP[0]\n",
    "        IP=IP[1:]\n",
    "    OP1=OP+' '+IP[0]\n",
    "    OP2=OP+IP[0]\n",
    "    IP=IP[1:]\n",
    "    func(IP,OP1)\n",
    "    func(IP,OP2)"
   ]
  },
  {
   "cell_type": "code",
   "execution_count": 8,
   "metadata": {
    "scrolled": true
   },
   "outputs": [
    {
     "name": "stdout",
     "output_type": "stream",
     "text": [
      "A B C\n",
      "A BC\n",
      "AB C\n",
      "ABC\n"
     ]
    }
   ],
   "source": [
    "func(IP,'')"
   ]
  },
  {
   "cell_type": "code",
   "execution_count": null,
   "metadata": {},
   "outputs": [],
   "source": []
  }
 ],
 "metadata": {
  "kernelspec": {
   "display_name": "Python 3",
   "language": "python",
   "name": "python3"
  },
  "language_info": {
   "codemirror_mode": {
    "name": "ipython",
    "version": 3
   },
   "file_extension": ".py",
   "mimetype": "text/x-python",
   "name": "python",
   "nbconvert_exporter": "python",
   "pygments_lexer": "ipython3",
   "version": "3.7.6"
  }
 },
 "nbformat": 4,
 "nbformat_minor": 4
}
